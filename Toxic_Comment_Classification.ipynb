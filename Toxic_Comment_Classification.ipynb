{
 "cells": [
  {
   "cell_type": "code",
   "execution_count": 30,
   "metadata": {
    "collapsed": true
   },
   "outputs": [],
   "source": [
    "import numpy as np\n",
    "from keras.models import Sequential\n",
    "from keras.layers import Dense\n",
    "from keras.layers import LSTM\n",
    "from keras.layers.embeddings import Embedding\n",
    "from keras.preprocessing.sequence import pad_sequences\n",
    "from keras.preprocessing.text import one_hot\n",
    "from keras.preprocessing.text import Tokenizer"
   ]
  },
  {
   "cell_type": "code",
   "execution_count": 31,
   "metadata": {},
   "outputs": [
    {
     "name": "stdout",
     "output_type": "stream",
     "text": [
      "159572\n"
     ]
    },
    {
     "name": "stderr",
     "output_type": "stream",
     "text": [
      "C:\\Users\\a33chow\\anaconda\\lib\\site-packages\\IPython\\core\\interactiveshell.py:2698: DtypeWarning: Columns (2,3,4,5,6,7) have mixed types. Specify dtype option on import or set low_memory=False.\n",
      "  interactivity=interactivity, compiler=compiler, result=result)\n"
     ]
    }
   ],
   "source": [
    "import pandas as pd\n",
    "df = pd.read_csv (\"train.csv\", sep = \",\", header = None)\n",
    "length = len(df)\n",
    "print (length)\n",
    "df = pd.DataFrame.as_matrix(df)\n",
    "X_train = df[1:length,1]\n",
    "Y_train = df[1:length,2:8]\n",
    "length = len(X_train)"
   ]
  },
  {
   "cell_type": "code",
   "execution_count": 32,
   "metadata": {
    "collapsed": true,
    "scrolled": true
   },
   "outputs": [],
   "source": [
    "for i in range(0,length):\n",
    "    X_train[i] = one_hot(X_train[i],5000)\n",
    "X_train = pad_sequences(X_train,maxlen=100)\n",
    "#print (length(np.transpose(X_train)))"
   ]
  },
  {
   "cell_type": "code",
   "execution_count": 33,
   "metadata": {},
   "outputs": [
    {
     "name": "stdout",
     "output_type": "stream",
     "text": [
      "_________________________________________________________________\n",
      "Layer (type)                 Output Shape              Param #   \n",
      "=================================================================\n",
      "embedding_4 (Embedding)      (None, 100, 1)            5000      \n",
      "_________________________________________________________________\n",
      "lstm_4 (LSTM)                (None, 10)                480       \n",
      "_________________________________________________________________\n",
      "dense_4 (Dense)              (None, 6)                 66        \n",
      "=================================================================\n",
      "Total params: 5,546\n",
      "Trainable params: 5,546\n",
      "Non-trainable params: 0\n",
      "_________________________________________________________________\n",
      "None\n"
     ]
    }
   ],
   "source": [
    "model = Sequential()\n",
    "model.add(Embedding(5000,1,input_length = 100))\n",
    "model.add(LSTM(10))\n",
    "model.add(Dense(6, activation = \"softmax\"))\n",
    "model.compile(loss = \"categorical_crossentropy\",\n",
    "             optimizer = 'adam',\n",
    "             metrics=['accuracy'])\n",
    "print (model.summary())"
   ]
  },
  {
   "cell_type": "code",
   "execution_count": 34,
   "metadata": {},
   "outputs": [
    {
     "name": "stdout",
     "output_type": "stream",
     "text": [
      "Epoch 1/3\n",
      "159571/159571 [==============================] - 97s 607us/step - loss: 0.3032 - acc: 0.9925\n",
      "Epoch 2/3\n",
      "159571/159571 [==============================] - 98s 612us/step - loss: 0.2919 - acc: 0.9872\n",
      "Epoch 3/3\n",
      "159571/159571 [==============================] - 97s 607us/step - loss: 0.2884 - acc: 0.9851\n"
     ]
    },
    {
     "data": {
      "text/plain": [
       "<keras.callbacks.History at 0x13097929a58>"
      ]
     },
     "execution_count": 34,
     "metadata": {},
     "output_type": "execute_result"
    }
   ],
   "source": [
    "model.fit(X_train,Y_train,epochs = 3, batch_size = 100)"
   ]
  },
  {
   "cell_type": "code",
   "execution_count": 35,
   "metadata": {
    "collapsed": true
   },
   "outputs": [],
   "source": [
    "model.save('full_model.h5')"
   ]
  },
  {
   "cell_type": "code",
   "execution_count": 36,
   "metadata": {
    "collapsed": true
   },
   "outputs": [],
   "source": [
    "df_test = pd.read_csv (\"test.csv\", sep = \",\", header = None)\n",
    "df_test = pd.DataFrame.as_matrix(df_test)\n",
    "X_test = df_test[1:length_test,1]\n",
    "length_test = len(X_test)\n",
    "for i in range(0,length_test):\n",
    "    X_test[i] = one_hot(X_test[i],5000)\n",
    "X_test = pad_sequences(X_test,maxlen=100)"
   ]
  },
  {
   "cell_type": "code",
   "execution_count": 37,
   "metadata": {},
   "outputs": [
    {
     "data": {
      "text/plain": [
       "array([[ 0.33517987,  0.08411455,  0.26967061,  0.03072802,  0.22690402,\n",
       "         0.05340301],\n",
       "       [ 0.62627262,  0.0054886 ,  0.17302606,  0.00275256,  0.17850977,\n",
       "         0.01395046],\n",
       "       [ 0.68146533,  0.00308862,  0.14642352,  0.00185365,  0.15731283,\n",
       "         0.00985597],\n",
       "       ..., \n",
       "       [ 0.64543796,  0.004514  ,  0.16426496,  0.00240127,  0.17099142,\n",
       "         0.01239038],\n",
       "       [ 0.63422227,  0.00507073,  0.17002326,  0.00262689,  0.17473386,\n",
       "         0.01332291],\n",
       "       [ 0.53400648,  0.01241508,  0.22143093,  0.00494498,  0.20469145,\n",
       "         0.02251113]], dtype=float32)"
      ]
     },
     "execution_count": 37,
     "metadata": {},
     "output_type": "execute_result"
    }
   ],
   "source": [
    "model.predict(X_test)"
   ]
  },
  {
   "cell_type": "code",
   "execution_count": null,
   "metadata": {
    "collapsed": true
   },
   "outputs": [],
   "source": []
  }
 ],
 "metadata": {
  "kernelspec": {
   "display_name": "Python 3",
   "language": "python",
   "name": "python3"
  },
  "language_info": {
   "codemirror_mode": {
    "name": "ipython",
    "version": 3
   },
   "file_extension": ".py",
   "mimetype": "text/x-python",
   "name": "python",
   "nbconvert_exporter": "python",
   "pygments_lexer": "ipython3",
   "version": "3.6.1"
  }
 },
 "nbformat": 4,
 "nbformat_minor": 2
}
